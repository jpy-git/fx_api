{
 "cells": [
  {
   "cell_type": "markdown",
   "id": "lonely-today",
   "metadata": {},
   "source": [
    "# Smart Pension - FX API demo notebook"
   ]
  },
  {
   "cell_type": "code",
   "execution_count": 1,
   "id": "backed-voice",
   "metadata": {},
   "outputs": [],
   "source": [
    "# Import modules for demo notebook\n",
    "import os\n",
    "import sqlite3\n",
    "from sqlalchemy import create_engine\n",
    "import pandas as pd"
   ]
  },
  {
   "cell_type": "code",
   "execution_count": 2,
   "id": "educated-comparison",
   "metadata": {},
   "outputs": [],
   "source": [
    "# Import FX class from custom fx_api package\n",
    "from fx_api import FX"
   ]
  },
  {
   "cell_type": "markdown",
   "id": "palestinian-bandwidth",
   "metadata": {},
   "source": [
    "# fx_api\n",
    "\n",
    "I have designed the API with the goal of obtaining any combination of exchange rates from exchangeratesapi.io in two steps:\n",
    "\n",
    "1. Initialise instance of FX class with desired mapping from source to target currencies.\n",
    "2. Apply methods to instance to obtain exchange rates in desired date range"
   ]
  },
  {
   "cell_type": "code",
   "execution_count": 3,
   "id": "lucky-enemy",
   "metadata": {
    "scrolled": true
   },
   "outputs": [
    {
     "name": "stdout",
     "output_type": "stream",
     "text": [
      "Help on class FX in module fx_api.api:\n",
      "\n",
      "class FX(builtins.object)\n",
      " |  FX(source_currency='GBP', target_currency=None)\n",
      " |  \n",
      " |  FX class allows user to specify source and target currencies when initialising an instance. Various methods can then be applied to obtain desired exchange rates.\n",
      " |  \n",
      " |  Class Attributes\n",
      " |  -------\n",
      " |  base_url : str\n",
      " |      URL of exchangeratesapi.io\n",
      " |  limits_calls : int, optional\n",
      " |      number of calls permitted in limits_period before rate-limiting begins, by default 20\n",
      " |  limits_period : int, optional\n",
      " |      number of seconds before limits_calls count is reset, by default 20\n",
      " |  limits_max_tries : int, optional\n",
      " |      number of tries before exponential backoff ends and returns RateLimitException, by default 10\n",
      " |  \n",
      " |  Instance Attributes\n",
      " |  -------\n",
      " |  source_currency: str or list of str\n",
      " |      currency which is to be converted\n",
      " |  target_currency: str or list of str or None\n",
      " |      target for currency being converted\n",
      " |  \n",
      " |  Methods\n",
      " |  -------\n",
      " |  get_FX_latest():\n",
      " |      retrieve pandas DataFrame of latest available exchange rates\n",
      " |  get_FX_date(date):\n",
      " |      retrieve pandas DataFrame of exchange rates for a specified date\n",
      " |  get_FX_date_range(start_at, end_at):\n",
      " |      retrieve pandas DataFrame of exchange rates for within specified date range\n",
      " |  \n",
      " |  Methods defined here:\n",
      " |  \n",
      " |  __init__(self, source_currency='GBP', target_currency=None)\n",
      " |      Initialise instance of FX class.\n",
      " |      \n",
      " |      Parameters\n",
      " |      ----------\n",
      " |      source_currency : str or list of str, optional\n",
      " |          currency which is to be converted, by default \"GBP\"\n",
      " |      target_currency : str or list of str or None, optional\n",
      " |          target for currency being converted, by default None\n",
      " |  \n",
      " |  get_FX_date(self, date)\n",
      " |      Retrieve pandas DataFrame of exchange rates for a specified date\n",
      " |      \n",
      " |      Parameters\n",
      " |      ----------\n",
      " |      date : str\n",
      " |          string in date format YYYY-MM-DD\n",
      " |      \n",
      " |      Returns\n",
      " |      -------\n",
      " |      pandas DataFrame\n",
      " |          DataFrame containing columns date (str), source_currency (str), target_currency (str), and exchange_rate_to_target (float)\n",
      " |  \n",
      " |  get_FX_date_range(self, start_at, end_at)\n",
      " |      Retrieve pandas DataFrame of exchange rates for within specified date range\n",
      " |      \n",
      " |      Parameters\n",
      " |      ----------\n",
      " |      start_at : str\n",
      " |          string in date format YYYY-MM-DD\n",
      " |      end_at : str\n",
      " |          string in date format YYYY-MM-DD\n",
      " |      \n",
      " |      Returns\n",
      " |      -------\n",
      " |      pandas DataFrame\n",
      " |          DataFrame containing columns date (str), source_currency (str), target_currency (str), and exchange_rate_to_target (float)\n",
      " |  \n",
      " |  get_FX_latest(self)\n",
      " |      Retrieve pandas DataFrame of latest available exchange rates.\n",
      " |      \n",
      " |      Returns\n",
      " |      -------\n",
      " |      pandas DataFrame\n",
      " |          DataFrame containing columns date (str), source_currency (str), target_currency (str), and exchange_rate_to_target (float)\n",
      " |  \n",
      " |  ----------------------------------------------------------------------\n",
      " |  Data descriptors defined here:\n",
      " |  \n",
      " |  __dict__\n",
      " |      dictionary for instance variables (if defined)\n",
      " |  \n",
      " |  __weakref__\n",
      " |      list of weak references to the object (if defined)\n",
      " |  \n",
      " |  ----------------------------------------------------------------------\n",
      " |  Data and other attributes defined here:\n",
      " |  \n",
      " |  base_url = 'https://api.exchangeratesapi.io'\n",
      " |  \n",
      " |  limits_calls = 20\n",
      " |  \n",
      " |  limits_max_tries = 10\n",
      " |  \n",
      " |  limits_period = 20\n",
      "\n"
     ]
    }
   ],
   "source": [
    "# Demo of class docstrings\n",
    "help(FX)"
   ]
  },
  {
   "cell_type": "markdown",
   "id": "round-roads",
   "metadata": {},
   "source": [
    "## Query demos"
   ]
  },
  {
   "cell_type": "code",
   "execution_count": 4,
   "id": "duplicate-tucson",
   "metadata": {
    "scrolled": true
   },
   "outputs": [
    {
     "name": "stdout",
     "output_type": "stream",
     "text": [
      "          date source_currency target_currency  exchange_rate_to_target\n",
      "0   2021-03-12             GBP             AUD                 1.793441\n",
      "1   2021-03-12             GBP             BGN                 2.278558\n",
      "2   2021-03-12             GBP             BRL                 7.738219\n",
      "3   2021-03-12             GBP             CAD                 1.744626\n",
      "4   2021-03-12             GBP             CHF                 1.292480\n",
      "5   2021-03-12             GBP             CNY                 9.044795\n",
      "6   2021-03-12             GBP             CZK                30.465428\n",
      "7   2021-03-12             GBP             DKK                 8.663832\n",
      "8   2021-03-12             GBP             EUR                 1.165026\n",
      "9   2021-03-12             GBP             GBP                 1.000000\n",
      "10  2021-03-12             GBP             HKD                10.793033\n",
      "11  2021-03-12             GBP             HRK                 8.840799\n",
      "12  2021-03-12             GBP             HUF               426.609192\n",
      "13  2021-03-12             GBP             IDR             20008.889148\n",
      "14  2021-03-12             GBP             ILS                 4.617813\n",
      "15  2021-03-12             GBP             INR               101.038038\n",
      "16  2021-03-12             GBP             ISK               179.297489\n",
      "17  2021-03-12             GBP             JPY               151.616473\n",
      "18  2021-03-12             GBP             KRW              1578.528572\n",
      "19  2021-03-12             GBP             MXN                28.957418\n",
      "20  2021-03-12             GBP             MYR                 5.724937\n",
      "21  2021-03-12             GBP             NOK                11.750801\n",
      "22  2021-03-12             GBP             NZD                 1.937788\n",
      "23  2021-03-12             GBP             PHP                67.305878\n",
      "24  2021-03-12             GBP             PLN                 5.343624\n",
      "25  2021-03-12             GBP             RON                 5.691152\n",
      "26  2021-03-12             GBP             RUB               102.176268\n",
      "27  2021-03-12             GBP             SEK                11.811965\n",
      "28  2021-03-12             GBP             SGD                 1.870216\n",
      "29  2021-03-12             GBP             THB                42.791402\n",
      "30  2021-03-12             GBP             TRY                10.537892\n",
      "31  2021-03-12             GBP             USD                 1.390225\n",
      "32  2021-03-12             GBP             ZAR                20.796295\n"
     ]
    }
   ],
   "source": [
    "# Demo of default mapping of source_currency = \"GBP\" to all target_currencies for latest exchange rates\n",
    "# N.B. exchange rates are only updated on working days. Therefore querying on non-working days will return \n",
    "# exchange rates from latest working day\n",
    "FX_df = FX().get_FX_latest()\n",
    "print(FX_df)"
   ]
  },
  {
   "cell_type": "code",
   "execution_count": 5,
   "id": "cardiovascular-greek",
   "metadata": {
    "scrolled": true
   },
   "outputs": [
    {
     "name": "stdout",
     "output_type": "stream",
     "text": [
      "         date source_currency target_currency  exchange_rate_to_target\n",
      "0  2021-03-10             CAD             AUD                 1.025863\n",
      "1  2021-03-10             CAD             JPY                85.845356\n",
      "2  2021-03-10             EUR             AUD                 1.543000\n",
      "3  2021-03-10             EUR             JPY               129.120000\n",
      "4  2021-03-10             GBP             AUD                 1.801413\n",
      "5  2021-03-10             GBP             JPY               150.744265\n",
      "6  2021-03-10             USD             AUD                 1.297511\n",
      "7  2021-03-10             USD             JPY               108.577195\n"
     ]
    }
   ],
   "source": [
    "# Demo of mapping of source_currency = [\"GBP\", \"USD\", \"CAD\", \"EUR\"] to target_currency = [\"JPY\", \"AUD\"] \n",
    "# for exchange rates as at date \"2021-03-10\"\n",
    "FX_df = FX(\n",
    "    source_currency = [\"GBP\", \"USD\", \"CAD\", \"EUR\"],\n",
    "    target_currency = [\"JPY\", \"AUD\"]\n",
    ").get_FX_date(\n",
    "    date = \"2021-03-10\"\n",
    ")\n",
    "print(FX_df)"
   ]
  },
  {
   "cell_type": "code",
   "execution_count": 6,
   "id": "improving-cargo",
   "metadata": {
    "scrolled": true
   },
   "outputs": [
    {
     "name": "stdout",
     "output_type": "stream",
     "text": [
      "          date source_currency target_currency  exchange_rate_to_target\n",
      "0   2021-02-10             USD             GBP                 0.722767\n",
      "1   2021-02-11             USD             GBP                 0.722442\n",
      "2   2021-02-12             USD             GBP                 0.724752\n",
      "3   2021-02-15             USD             GBP                 0.719144\n",
      "4   2021-02-16             USD             GBP                 0.719204\n",
      "5   2021-02-17             USD             GBP                 0.721061\n",
      "6   2021-02-18             USD             GBP                 0.716154\n",
      "7   2021-02-19             USD             GBP                 0.712645\n",
      "8   2021-02-22             USD             GBP                 0.713179\n",
      "9   2021-02-23             USD             GBP                 0.710763\n",
      "10  2021-02-24             USD             GBP                 0.708299\n",
      "11  2021-02-25             USD             GBP                 0.706814\n",
      "12  2021-02-26             USD             GBP                 0.718200\n",
      "13  2021-03-01             USD             GBP                 0.718145\n",
      "14  2021-03-02             USD             GBP                 0.718598\n",
      "15  2021-03-03             USD             GBP                 0.716725\n",
      "16  2021-03-04             USD             GBP                 0.716885\n",
      "17  2021-03-05             USD             GBP                 0.722902\n",
      "18  2021-03-08             USD             GBP                 0.722468\n",
      "19  2021-03-09             USD             GBP                 0.720565\n",
      "20  2021-03-10             USD             GBP                 0.720274\n"
     ]
    }
   ],
   "source": [
    "# Demo of mapping of source_currency = \"USD\" to target_currency = \"GBP\"\n",
    "# for exchange rates as between dates \"2021-02-10\" and \"2021-03-10\"\n",
    "FX_df = FX(\n",
    "    source_currency = \"USD\",\n",
    "    target_currency = \"GBP\"\n",
    ").get_FX_date_range(\n",
    "    start_at = \"2021-02-10\",\n",
    "    end_at = \"2021-03-10\"\n",
    ")\n",
    "print(FX_df)"
   ]
  },
  {
   "cell_type": "markdown",
   "id": "nutritional-mounting",
   "metadata": {},
   "source": [
    "# API demonstration exercise\n",
    "\n",
    "In this exercise, you will need to query an api (https://exchangeratesapi.io/). You will need to:\n",
    "\n",
    "1. Query the api for exchange rates for the period 01/01/2018 - 01/01/2021\n",
    "\n",
    "2. For each day, retrieve the exchange rates for UK Sterling (GBP), US Dollars (USD) and Euros (EUR) and the conversion rates to all currencies provided by the API\n",
    "\n",
    "3. Output the collected data to a CSV file\n",
    "\n",
    "4. Upload the CSV file to a database (any local database will be sufficient, e.g. SQLLite, MySQL, etc.)"
   ]
  },
  {
   "cell_type": "code",
   "execution_count": 7,
   "id": "technological-bidding",
   "metadata": {},
   "outputs": [],
   "source": [
    "# Create filepaths for CSV & SQLLite database\n",
    "script_location = os.path.abspath('')\n",
    "csv_path = os.path.join(script_location, \"exchange_rates.csv\")\n",
    "sqlite_path = os.path.join(script_location, \"exchange_rates.sqlite3\")"
   ]
  },
  {
   "cell_type": "code",
   "execution_count": 8,
   "id": "pacific-offset",
   "metadata": {},
   "outputs": [
    {
     "name": "stdout",
     "output_type": "stream",
     "text": [
      "          date source_currency target_currency  exchange_rate_to_target\n",
      "0   2018-01-02             EUR             AUD                  1.54130\n",
      "1   2018-01-02             EUR             BGN                  1.95580\n",
      "2   2018-01-02             EUR             BRL                  3.95040\n",
      "3   2018-01-02             EUR             CAD                  1.51280\n",
      "4   2018-01-02             EUR             CHF                  1.17180\n",
      "5   2018-01-02             EUR             CNY                  7.83380\n",
      "6   2018-01-02             EUR             CZK                 25.49400\n",
      "7   2018-01-02             EUR             DKK                  7.44370\n",
      "8   2018-01-02             EUR             GBP                  0.88953\n",
      "9   2018-01-02             EUR             HKD                  9.42830\n",
      "10  2018-01-02             EUR             HRK                  7.46400\n",
      "11  2018-01-02             EUR             HUF                308.59000\n",
      "12  2018-01-02             EUR             IDR              16266.03000\n",
      "13  2018-01-02             EUR             ILS                  4.16930\n",
      "14  2018-01-02             EUR             INR                 76.60050\n",
      "15  2018-01-02             EUR             JPY                135.35000\n",
      "16  2018-01-02             EUR             KRW               1281.59000\n",
      "17  2018-01-02             EUR             MXN                 23.55340\n",
      "18  2018-01-02             EUR             MYR                  4.84950\n",
      "19  2018-01-02             EUR             NOK                  9.77480\n"
     ]
    }
   ],
   "source": [
    "# Steps 1 & 2: Query API\n",
    "FX_df = FX(\n",
    "    source_currency=[\"GBP\", \"USD\", \"EUR\"]\n",
    ").get_FX_date_range(\n",
    "    start_at=\"2018-01-01\", \n",
    "    end_at=\"2021-01-01\"\n",
    ")\n",
    "print(FX_df.head(20))"
   ]
  },
  {
   "cell_type": "code",
   "execution_count": 9,
   "id": "early-marketplace",
   "metadata": {},
   "outputs": [],
   "source": [
    "# Step 3: Output data to CSV\n",
    "FX_df.to_csv(\n",
    "    csv_path,\n",
    "    index=False\n",
    ")"
   ]
  },
  {
   "cell_type": "code",
   "execution_count": 10,
   "id": "superb-treatment",
   "metadata": {},
   "outputs": [
    {
     "name": "stdout",
     "output_type": "stream",
     "text": [
      "    id        date source_currency target_currency  exchange_rate_to_target\n",
      "0    1  2018-01-02             EUR             AUD                  1.54130\n",
      "1    2  2018-01-02             EUR             BGN                  1.95580\n",
      "2    3  2018-01-02             EUR             BRL                  3.95040\n",
      "3    4  2018-01-02             EUR             CAD                  1.51280\n",
      "4    5  2018-01-02             EUR             CHF                  1.17180\n",
      "5    6  2018-01-02             EUR             CNY                  7.83380\n",
      "6    7  2018-01-02             EUR             CZK                 25.49400\n",
      "7    8  2018-01-02             EUR             DKK                  7.44370\n",
      "8    9  2018-01-02             EUR             GBP                  0.88953\n",
      "9   10  2018-01-02             EUR             HKD                  9.42830\n",
      "10  11  2018-01-02             EUR             HRK                  7.46400\n",
      "11  12  2018-01-02             EUR             HUF                308.59000\n",
      "12  13  2018-01-02             EUR             IDR              16266.03000\n",
      "13  14  2018-01-02             EUR             ILS                  4.16930\n",
      "14  15  2018-01-02             EUR             INR                 76.60050\n",
      "15  16  2018-01-02             EUR             JPY                135.35000\n",
      "16  17  2018-01-02             EUR             KRW               1281.59000\n",
      "17  18  2018-01-02             EUR             MXN                 23.55340\n",
      "18  19  2018-01-02             EUR             MYR                  4.84950\n",
      "19  20  2018-01-02             EUR             NOK                  9.77480\n"
     ]
    }
   ],
   "source": [
    "# Step 4: Upload CSV to SQLLite database\n",
    "\n",
    "# Import CSV\n",
    "csv_FX_df = pd.read_csv(\n",
    "    csv_path\n",
    ")\n",
    "\n",
    "# Create exchange_rates table\n",
    "# (N.B. dropping and creating each time for demo purposes)\n",
    "sqlite3_con = sqlite3.connect(sqlite_path)\n",
    "cur = sqlite3_con.cursor()\n",
    "\n",
    "drop_existing_exchange_rates_sql = \"\"\"\n",
    "DROP TABLE IF EXISTS exchange_rates\n",
    "\"\"\"\n",
    "cur.execute(drop_existing_exchange_rates_sql)\n",
    "\n",
    "exchange_rates_sql = \"\"\"\n",
    "CREATE TABLE exchange_rates (\n",
    "    id integer PRIMARY KEY,\n",
    "    date text NOT NULL,\n",
    "    source_currency text NOT NULL,\n",
    "    target_currency text NOT NULL,\n",
    "    exchange_rate_to_target real NOT NULL\n",
    ");\n",
    "\"\"\"\n",
    "cur.execute(exchange_rates_sql)\n",
    "\n",
    "# Upload pandas DataFrame using SQLAlchemy\n",
    "engine = create_engine(\n",
    "    f\"sqlite:///{sqlite_path}\"\n",
    ")\n",
    "sqlalchemy_con = engine.connect()\n",
    "\n",
    "csv_FX_df.to_sql(\n",
    "    \"exchange_rates\",\n",
    "    con=sqlalchemy_con,\n",
    "    if_exists=\"append\",\n",
    "    index=False\n",
    ")\n",
    "\n",
    "# Query exchange_rates table to verify successful upload\n",
    "exchange_rate_query_sql = \"\"\"\n",
    "SELECT *\n",
    "FROM exchange_rates\n",
    "\"\"\"\n",
    "sql_FX_df = pd.read_sql(\n",
    "    exchange_rate_query_sql,\n",
    "    con=sqlite3_con\n",
    ")\n",
    "print(sql_FX_df.head(20))"
   ]
  },
  {
   "cell_type": "markdown",
   "id": "proved-mitchell",
   "metadata": {},
   "source": [
    "# Additional considerations"
   ]
  },
  {
   "cell_type": "markdown",
   "id": "guided-desire",
   "metadata": {},
   "source": [
    "## Automated unit tests\n",
    "\n",
    "Unit tests implemented using pytest module and can be found in tests/ folder\n",
    "\n",
    "From root directory of project open shell and run:\n",
    "```\n",
    "pytest\n",
    "```"
   ]
  },
  {
   "cell_type": "markdown",
   "id": "arbitrary-london",
   "metadata": {},
   "source": [
    "## API rate-limiting\n",
    "\n",
    "exchangeratesapi.io does not implement rate-limiting, however, as a proof-of-concept I have added a default limit of 20 calls in 20 seconds. If the rate-limit is exceeded then the API will attempt exponential backoff a default of 10 times before raising RateLimitException"
   ]
  },
  {
   "cell_type": "code",
   "execution_count": 11,
   "id": "interpreted-attention",
   "metadata": {
    "scrolled": true
   },
   "outputs": [
    {
     "name": "stdout",
     "output_type": "stream",
     "text": [
      "limits_calls: 20\n",
      "limits_period: 20\n",
      "limits_max_tries: 10\n"
     ]
    }
   ],
   "source": [
    "# Check default rate-limiting params\n",
    "print(f\"limits_calls: {FX.limits_calls}\")\n",
    "print(f\"limits_period: {FX.limits_period}\")\n",
    "print(f\"limits_max_tries: {FX.limits_max_tries}\")"
   ]
  },
  {
   "cell_type": "code",
   "execution_count": 13,
   "id": "concrete-sudan",
   "metadata": {},
   "outputs": [
    {
     "name": "stdout",
     "output_type": "stream",
     "text": [
      "1\n",
      "2\n",
      "3\n",
      "4\n",
      "5\n",
      "6\n",
      "7\n",
      "8\n",
      "9\n",
      "10\n",
      "11\n",
      "12\n",
      "13\n",
      "14\n",
      "15\n",
      "16\n",
      "17\n",
      "18\n",
      "19\n",
      "20\n",
      "21\n",
      "22\n",
      "23\n",
      "24\n",
      "25\n"
     ]
    }
   ],
   "source": [
    "# Query API 25 times successively and observe the first 20 complete immediately, \n",
    "# at which point the API initiates rate-limiting and attempts exponential backoff until limits_period is exceeded\n",
    "for i in range(25):\n",
    "    FX().get_FX_latest()\n",
    "    print(i+1)"
   ]
  },
  {
   "cell_type": "markdown",
   "id": "veterinary-michael",
   "metadata": {},
   "source": [
    "## API tokens/secrets\n",
    "\n",
    "exchangeratesapi.io does not require an API token or any passwords, however, for APIs that do require these (e.g. Azure Client) the simplest methods are to either store them in system environment variables and access with os.environ or store them in a config file (txt/ini/py/etc) that is included in the .gitignore and therefore not included in the source code"
   ]
  },
  {
   "cell_type": "markdown",
   "id": "local-immigration",
   "metadata": {},
   "source": [
    "## High volume performance\n",
    "\n",
    "API capable of downloading latest FX in <0.5s and can obtain all FX from \"1999-01-04\" to \"2021-01-01\" (~500,000 rows) in ~25-30s"
   ]
  },
  {
   "cell_type": "code",
   "execution_count": 14,
   "id": "powerful-blogger",
   "metadata": {
    "scrolled": true
   },
   "outputs": [
    {
     "name": "stdout",
     "output_type": "stream",
     "text": [
      "372 ms ± 18.3 ms per loop (mean ± std. dev. of 7 runs, 1 loop each)\n"
     ]
    }
   ],
   "source": [
    "%timeit FX(source_currency=[\"GBP\", \"USD\", \"EUR\"]).get_FX_latest()"
   ]
  },
  {
   "cell_type": "code",
   "execution_count": 15,
   "id": "eligible-claim",
   "metadata": {
    "scrolled": true
   },
   "outputs": [
    {
     "name": "stdout",
     "output_type": "stream",
     "text": [
      "CPU times: user 24 s, sys: 373 ms, total: 24.4 s\n",
      "Wall time: 28.3 s\n"
     ]
    },
    {
     "data": {
      "text/html": [
       "<div>\n",
       "<style scoped>\n",
       "    .dataframe tbody tr th:only-of-type {\n",
       "        vertical-align: middle;\n",
       "    }\n",
       "\n",
       "    .dataframe tbody tr th {\n",
       "        vertical-align: top;\n",
       "    }\n",
       "\n",
       "    .dataframe thead th {\n",
       "        text-align: right;\n",
       "    }\n",
       "</style>\n",
       "<table border=\"1\" class=\"dataframe\">\n",
       "  <thead>\n",
       "    <tr style=\"text-align: right;\">\n",
       "      <th></th>\n",
       "      <th>date</th>\n",
       "      <th>source_currency</th>\n",
       "      <th>target_currency</th>\n",
       "      <th>exchange_rate_to_target</th>\n",
       "    </tr>\n",
       "  </thead>\n",
       "  <tbody>\n",
       "    <tr>\n",
       "      <th>0</th>\n",
       "      <td>1999-01-04</td>\n",
       "      <td>EUR</td>\n",
       "      <td>AUD</td>\n",
       "      <td>1.910000</td>\n",
       "    </tr>\n",
       "    <tr>\n",
       "      <th>1</th>\n",
       "      <td>1999-01-04</td>\n",
       "      <td>EUR</td>\n",
       "      <td>CAD</td>\n",
       "      <td>1.800400</td>\n",
       "    </tr>\n",
       "    <tr>\n",
       "      <th>2</th>\n",
       "      <td>1999-01-04</td>\n",
       "      <td>EUR</td>\n",
       "      <td>CHF</td>\n",
       "      <td>1.616800</td>\n",
       "    </tr>\n",
       "    <tr>\n",
       "      <th>3</th>\n",
       "      <td>1999-01-04</td>\n",
       "      <td>EUR</td>\n",
       "      <td>CYP</td>\n",
       "      <td>0.582310</td>\n",
       "    </tr>\n",
       "    <tr>\n",
       "      <th>4</th>\n",
       "      <td>1999-01-04</td>\n",
       "      <td>EUR</td>\n",
       "      <td>CZK</td>\n",
       "      <td>35.107000</td>\n",
       "    </tr>\n",
       "    <tr>\n",
       "      <th>...</th>\n",
       "      <td>...</td>\n",
       "      <td>...</td>\n",
       "      <td>...</td>\n",
       "      <td>...</td>\n",
       "    </tr>\n",
       "    <tr>\n",
       "      <th>540099</th>\n",
       "      <td>2020-12-31</td>\n",
       "      <td>USD</td>\n",
       "      <td>SGD</td>\n",
       "      <td>1.321653</td>\n",
       "    </tr>\n",
       "    <tr>\n",
       "      <th>540100</th>\n",
       "      <td>2020-12-31</td>\n",
       "      <td>USD</td>\n",
       "      <td>THB</td>\n",
       "      <td>29.929916</td>\n",
       "    </tr>\n",
       "    <tr>\n",
       "      <th>540101</th>\n",
       "      <td>2020-12-31</td>\n",
       "      <td>USD</td>\n",
       "      <td>TRY</td>\n",
       "      <td>7.426534</td>\n",
       "    </tr>\n",
       "    <tr>\n",
       "      <th>540102</th>\n",
       "      <td>2020-12-31</td>\n",
       "      <td>USD</td>\n",
       "      <td>USD</td>\n",
       "      <td>1.000000</td>\n",
       "    </tr>\n",
       "    <tr>\n",
       "      <th>540103</th>\n",
       "      <td>2020-12-31</td>\n",
       "      <td>USD</td>\n",
       "      <td>ZAR</td>\n",
       "      <td>14.686578</td>\n",
       "    </tr>\n",
       "  </tbody>\n",
       "</table>\n",
       "<p>540104 rows × 4 columns</p>\n",
       "</div>"
      ],
      "text/plain": [
       "              date source_currency target_currency  exchange_rate_to_target\n",
       "0       1999-01-04             EUR             AUD                 1.910000\n",
       "1       1999-01-04             EUR             CAD                 1.800400\n",
       "2       1999-01-04             EUR             CHF                 1.616800\n",
       "3       1999-01-04             EUR             CYP                 0.582310\n",
       "4       1999-01-04             EUR             CZK                35.107000\n",
       "...            ...             ...             ...                      ...\n",
       "540099  2020-12-31             USD             SGD                 1.321653\n",
       "540100  2020-12-31             USD             THB                29.929916\n",
       "540101  2020-12-31             USD             TRY                 7.426534\n",
       "540102  2020-12-31             USD             USD                 1.000000\n",
       "540103  2020-12-31             USD             ZAR                14.686578\n",
       "\n",
       "[540104 rows x 4 columns]"
      ]
     },
     "execution_count": 15,
     "metadata": {},
     "output_type": "execute_result"
    }
   ],
   "source": [
    "%time FX(source_currency=[\"GBP\", \"USD\", \"EUR\"]).get_FX_date_range(start_at=\"1999-01-04\", end_at=\"2021-01-01\")"
   ]
  },
  {
   "cell_type": "markdown",
   "id": "hybrid-principle",
   "metadata": {},
   "source": [
    "## Error handling demos\n",
    "\n",
    "API raises an error when either supplied incorrect parameters or an HTTP error code is returned.\n",
    "This can then be logged and handled in try/except blocks accordingly by the main script utilising the API"
   ]
  },
  {
   "cell_type": "code",
   "execution_count": 16,
   "id": "regional-shame",
   "metadata": {
    "scrolled": true
   },
   "outputs": [
    {
     "ename": "TypeError",
     "evalue": "source_currency must be a string or a list of strings",
     "output_type": "error",
     "traceback": [
      "\u001b[0;31m---------------------------------------------------------------------------\u001b[0m",
      "\u001b[0;31mTypeError\u001b[0m                                 Traceback (most recent call last)",
      "\u001b[0;32m<ipython-input-16-f4d8b8fb0e90>\u001b[0m in \u001b[0;36m<module>\u001b[0;34m\u001b[0m\n\u001b[1;32m      1\u001b[0m \u001b[0;31m# Incorrect initialisation parameter typings\u001b[0m\u001b[0;34m\u001b[0m\u001b[0;34m\u001b[0m\u001b[0;34m\u001b[0m\u001b[0m\n\u001b[0;32m----> 2\u001b[0;31m FX_df = FX(\n\u001b[0m\u001b[1;32m      3\u001b[0m     \u001b[0msource_currency\u001b[0m \u001b[0;34m=\u001b[0m \u001b[0;36m4\u001b[0m\u001b[0;34m,\u001b[0m\u001b[0;34m\u001b[0m\u001b[0;34m\u001b[0m\u001b[0m\n\u001b[1;32m      4\u001b[0m     \u001b[0mtarget_currency\u001b[0m \u001b[0;34m=\u001b[0m \u001b[0;34m[\u001b[0m\u001b[0;36m1\u001b[0m\u001b[0;34m,\u001b[0m\u001b[0;34m\"USD\"\u001b[0m\u001b[0;34m]\u001b[0m\u001b[0;34m\u001b[0m\u001b[0;34m\u001b[0m\u001b[0m\n\u001b[1;32m      5\u001b[0m ).get_FX_latest()\n",
      "\u001b[0;32m~/Python_Projects/fx_api/fx_api/api.py\u001b[0m in \u001b[0;36m__init__\u001b[0;34m(self, source_currency, target_currency)\u001b[0m\n\u001b[1;32m     59\u001b[0m         \u001b[0;31m# Input validation\u001b[0m\u001b[0;34m\u001b[0m\u001b[0;34m\u001b[0m\u001b[0;34m\u001b[0m\u001b[0m\n\u001b[1;32m     60\u001b[0m         \u001b[0;32mif\u001b[0m \u001b[0;32mnot\u001b[0m \u001b[0mis_string_or_list_of_strings\u001b[0m\u001b[0;34m(\u001b[0m\u001b[0msource_currency\u001b[0m\u001b[0;34m)\u001b[0m\u001b[0;34m:\u001b[0m\u001b[0;34m\u001b[0m\u001b[0;34m\u001b[0m\u001b[0m\n\u001b[0;32m---> 61\u001b[0;31m             \u001b[0;32mraise\u001b[0m \u001b[0mTypeError\u001b[0m\u001b[0;34m(\u001b[0m\u001b[0;34m\"source_currency must be a string or a list of strings\"\u001b[0m\u001b[0;34m)\u001b[0m\u001b[0;34m\u001b[0m\u001b[0;34m\u001b[0m\u001b[0m\n\u001b[0m\u001b[1;32m     62\u001b[0m \u001b[0;34m\u001b[0m\u001b[0m\n\u001b[1;32m     63\u001b[0m         \u001b[0;32mif\u001b[0m \u001b[0mtarget_currency\u001b[0m\u001b[0;34m:\u001b[0m\u001b[0;34m\u001b[0m\u001b[0;34m\u001b[0m\u001b[0m\n",
      "\u001b[0;31mTypeError\u001b[0m: source_currency must be a string or a list of strings"
     ]
    }
   ],
   "source": [
    "# Incorrect initialisation parameter typings\n",
    "FX_df = FX(\n",
    "    source_currency = 4,\n",
    "    target_currency = [1,\"USD\"]\n",
    ").get_FX_latest()"
   ]
  },
  {
   "cell_type": "code",
   "execution_count": 17,
   "id": "ancient-israeli",
   "metadata": {
    "scrolled": true
   },
   "outputs": [
    {
     "ename": "ValueError",
     "evalue": "date must be provided in the date format YYYY-MM-DD",
     "output_type": "error",
     "traceback": [
      "\u001b[0;31m---------------------------------------------------------------------------\u001b[0m",
      "\u001b[0;31mValueError\u001b[0m                                Traceback (most recent call last)",
      "\u001b[0;32m~/Python_Projects/fx_api/fx_api/api.py\u001b[0m in \u001b[0;36mget_FX_date\u001b[0;34m(self, date)\u001b[0m\n\u001b[1;32m    172\u001b[0m             \u001b[0;32mtry\u001b[0m\u001b[0;34m:\u001b[0m\u001b[0;34m\u001b[0m\u001b[0;34m\u001b[0m\u001b[0m\n\u001b[0;32m--> 173\u001b[0;31m                 \u001b[0mdt\u001b[0m\u001b[0;34m.\u001b[0m\u001b[0mstrptime\u001b[0m\u001b[0;34m(\u001b[0m\u001b[0mdate\u001b[0m\u001b[0;34m,\u001b[0m \u001b[0;34m'%Y-%m-%d'\u001b[0m\u001b[0;34m)\u001b[0m\u001b[0;34m\u001b[0m\u001b[0;34m\u001b[0m\u001b[0m\n\u001b[0m\u001b[1;32m    174\u001b[0m             \u001b[0;32mexcept\u001b[0m \u001b[0mValueError\u001b[0m\u001b[0;34m:\u001b[0m\u001b[0;34m\u001b[0m\u001b[0;34m\u001b[0m\u001b[0m\n",
      "\u001b[0;32m/usr/local/Cellar/python@3.8/3.8.7_2/Frameworks/Python.framework/Versions/3.8/lib/python3.8/_strptime.py\u001b[0m in \u001b[0;36m_strptime_datetime\u001b[0;34m(cls, data_string, format)\u001b[0m\n\u001b[1;32m    567\u001b[0m     format string.\"\"\"\n\u001b[0;32m--> 568\u001b[0;31m     \u001b[0mtt\u001b[0m\u001b[0;34m,\u001b[0m \u001b[0mfraction\u001b[0m\u001b[0;34m,\u001b[0m \u001b[0mgmtoff_fraction\u001b[0m \u001b[0;34m=\u001b[0m \u001b[0m_strptime\u001b[0m\u001b[0;34m(\u001b[0m\u001b[0mdata_string\u001b[0m\u001b[0;34m,\u001b[0m \u001b[0mformat\u001b[0m\u001b[0;34m)\u001b[0m\u001b[0;34m\u001b[0m\u001b[0;34m\u001b[0m\u001b[0m\n\u001b[0m\u001b[1;32m    569\u001b[0m     \u001b[0mtzname\u001b[0m\u001b[0;34m,\u001b[0m \u001b[0mgmtoff\u001b[0m \u001b[0;34m=\u001b[0m \u001b[0mtt\u001b[0m\u001b[0;34m[\u001b[0m\u001b[0;34m-\u001b[0m\u001b[0;36m2\u001b[0m\u001b[0;34m:\u001b[0m\u001b[0;34m]\u001b[0m\u001b[0;34m\u001b[0m\u001b[0;34m\u001b[0m\u001b[0m\n",
      "\u001b[0;32m/usr/local/Cellar/python@3.8/3.8.7_2/Frameworks/Python.framework/Versions/3.8/lib/python3.8/_strptime.py\u001b[0m in \u001b[0;36m_strptime\u001b[0;34m(data_string, format)\u001b[0m\n\u001b[1;32m    351\u001b[0m     \u001b[0;32mif\u001b[0m \u001b[0mlen\u001b[0m\u001b[0;34m(\u001b[0m\u001b[0mdata_string\u001b[0m\u001b[0;34m)\u001b[0m \u001b[0;34m!=\u001b[0m \u001b[0mfound\u001b[0m\u001b[0;34m.\u001b[0m\u001b[0mend\u001b[0m\u001b[0;34m(\u001b[0m\u001b[0;34m)\u001b[0m\u001b[0;34m:\u001b[0m\u001b[0;34m\u001b[0m\u001b[0;34m\u001b[0m\u001b[0m\n\u001b[0;32m--> 352\u001b[0;31m         raise ValueError(\"unconverted data remains: %s\" %\n\u001b[0m\u001b[1;32m    353\u001b[0m                           data_string[found.end():])\n",
      "\u001b[0;31mValueError\u001b[0m: unconverted data remains: 3",
      "\nDuring handling of the above exception, another exception occurred:\n",
      "\u001b[0;31mValueError\u001b[0m                                Traceback (most recent call last)",
      "\u001b[0;32m<ipython-input-17-5885f2c4550f>\u001b[0m in \u001b[0;36m<module>\u001b[0;34m\u001b[0m\n\u001b[1;32m      1\u001b[0m \u001b[0;31m# Incorrect date format (expects YYYY-MM-DD)\u001b[0m\u001b[0;34m\u001b[0m\u001b[0;34m\u001b[0m\u001b[0;34m\u001b[0m\u001b[0m\n\u001b[0;32m----> 2\u001b[0;31m \u001b[0mFX_df\u001b[0m \u001b[0;34m=\u001b[0m \u001b[0mFX\u001b[0m\u001b[0;34m(\u001b[0m\u001b[0;34m)\u001b[0m\u001b[0;34m.\u001b[0m\u001b[0mget_FX_date\u001b[0m\u001b[0;34m(\u001b[0m\u001b[0mdate\u001b[0m\u001b[0;34m=\u001b[0m\u001b[0;34m\"2020-12-123\"\u001b[0m\u001b[0;34m)\u001b[0m\u001b[0;34m\u001b[0m\u001b[0;34m\u001b[0m\u001b[0m\n\u001b[0m",
      "\u001b[0;32m~/Python_Projects/fx_api/venv/lib/python3.8/site-packages/backoff/_sync.py\u001b[0m in \u001b[0;36mretry\u001b[0;34m(*args, **kwargs)\u001b[0m\n\u001b[1;32m     92\u001b[0m \u001b[0;34m\u001b[0m\u001b[0m\n\u001b[1;32m     93\u001b[0m             \u001b[0;32mtry\u001b[0m\u001b[0;34m:\u001b[0m\u001b[0;34m\u001b[0m\u001b[0;34m\u001b[0m\u001b[0m\n\u001b[0;32m---> 94\u001b[0;31m                 \u001b[0mret\u001b[0m \u001b[0;34m=\u001b[0m \u001b[0mtarget\u001b[0m\u001b[0;34m(\u001b[0m\u001b[0;34m*\u001b[0m\u001b[0margs\u001b[0m\u001b[0;34m,\u001b[0m \u001b[0;34m**\u001b[0m\u001b[0mkwargs\u001b[0m\u001b[0;34m)\u001b[0m\u001b[0;34m\u001b[0m\u001b[0;34m\u001b[0m\u001b[0m\n\u001b[0m\u001b[1;32m     95\u001b[0m             \u001b[0;32mexcept\u001b[0m \u001b[0mexception\u001b[0m \u001b[0;32mas\u001b[0m \u001b[0me\u001b[0m\u001b[0;34m:\u001b[0m\u001b[0;34m\u001b[0m\u001b[0;34m\u001b[0m\u001b[0m\n\u001b[1;32m     96\u001b[0m                 \u001b[0mmax_tries_exceeded\u001b[0m \u001b[0;34m=\u001b[0m \u001b[0;34m(\u001b[0m\u001b[0mtries\u001b[0m \u001b[0;34m==\u001b[0m \u001b[0mmax_tries_\u001b[0m\u001b[0;34m)\u001b[0m\u001b[0;34m\u001b[0m\u001b[0;34m\u001b[0m\u001b[0m\n",
      "\u001b[0;32m~/Python_Projects/fx_api/venv/lib/python3.8/site-packages/ratelimit/decorators.py\u001b[0m in \u001b[0;36mwrapper\u001b[0;34m(*args, **kargs)\u001b[0m\n\u001b[1;32m     78\u001b[0m                     \u001b[0;32mreturn\u001b[0m\u001b[0;34m\u001b[0m\u001b[0;34m\u001b[0m\u001b[0m\n\u001b[1;32m     79\u001b[0m \u001b[0;34m\u001b[0m\u001b[0m\n\u001b[0;32m---> 80\u001b[0;31m             \u001b[0;32mreturn\u001b[0m \u001b[0mfunc\u001b[0m\u001b[0;34m(\u001b[0m\u001b[0;34m*\u001b[0m\u001b[0margs\u001b[0m\u001b[0;34m,\u001b[0m \u001b[0;34m**\u001b[0m\u001b[0mkargs\u001b[0m\u001b[0;34m)\u001b[0m\u001b[0;34m\u001b[0m\u001b[0;34m\u001b[0m\u001b[0m\n\u001b[0m\u001b[1;32m     81\u001b[0m         \u001b[0;32mreturn\u001b[0m \u001b[0mwrapper\u001b[0m\u001b[0;34m\u001b[0m\u001b[0;34m\u001b[0m\u001b[0m\n\u001b[1;32m     82\u001b[0m \u001b[0;34m\u001b[0m\u001b[0m\n",
      "\u001b[0;32m~/Python_Projects/fx_api/fx_api/api.py\u001b[0m in \u001b[0;36mget_FX_date\u001b[0;34m(self, date)\u001b[0m\n\u001b[1;32m    173\u001b[0m                 \u001b[0mdt\u001b[0m\u001b[0;34m.\u001b[0m\u001b[0mstrptime\u001b[0m\u001b[0;34m(\u001b[0m\u001b[0mdate\u001b[0m\u001b[0;34m,\u001b[0m \u001b[0;34m'%Y-%m-%d'\u001b[0m\u001b[0;34m)\u001b[0m\u001b[0;34m\u001b[0m\u001b[0;34m\u001b[0m\u001b[0m\n\u001b[1;32m    174\u001b[0m             \u001b[0;32mexcept\u001b[0m \u001b[0mValueError\u001b[0m\u001b[0;34m:\u001b[0m\u001b[0;34m\u001b[0m\u001b[0;34m\u001b[0m\u001b[0m\n\u001b[0;32m--> 175\u001b[0;31m                 \u001b[0;32mraise\u001b[0m \u001b[0mValueError\u001b[0m\u001b[0;34m(\u001b[0m\u001b[0;34m\"date must be provided in the date format YYYY-MM-DD\"\u001b[0m\u001b[0;34m)\u001b[0m\u001b[0;34m\u001b[0m\u001b[0;34m\u001b[0m\u001b[0m\n\u001b[0m\u001b[1;32m    176\u001b[0m \u001b[0;34m\u001b[0m\u001b[0m\n\u001b[1;32m    177\u001b[0m         \u001b[0;31m# Create url for date API query\u001b[0m\u001b[0;34m\u001b[0m\u001b[0;34m\u001b[0m\u001b[0;34m\u001b[0m\u001b[0m\n",
      "\u001b[0;31mValueError\u001b[0m: date must be provided in the date format YYYY-MM-DD"
     ]
    }
   ],
   "source": [
    "# Incorrect date format (expects YYYY-MM-DD)\n",
    "FX_df = FX().get_FX_date(date=\"2020-12-123\")"
   ]
  },
  {
   "cell_type": "code",
   "execution_count": 18,
   "id": "sound-fireplace",
   "metadata": {
    "scrolled": true
   },
   "outputs": [
    {
     "ename": "HTTPError",
     "evalue": "400 Client Error: Bad Request for url: https://api.exchangeratesapi.io/latest?base=asdf",
     "output_type": "error",
     "traceback": [
      "\u001b[0;31m---------------------------------------------------------------------------\u001b[0m",
      "\u001b[0;31mHTTPError\u001b[0m                                 Traceback (most recent call last)",
      "\u001b[0;32m<ipython-input-18-aba56b8c5ab9>\u001b[0m in \u001b[0;36m<module>\u001b[0;34m\u001b[0m\n\u001b[1;32m      1\u001b[0m \u001b[0;31m# HTTP exception raised when non-existant class supplied\u001b[0m\u001b[0;34m\u001b[0m\u001b[0;34m\u001b[0m\u001b[0;34m\u001b[0m\u001b[0m\n\u001b[0;32m----> 2\u001b[0;31m FX_df = FX(\n\u001b[0m\u001b[1;32m      3\u001b[0m     \u001b[0msource_currency\u001b[0m\u001b[0;34m=\u001b[0m\u001b[0;34m\"asdf\"\u001b[0m\u001b[0;34m\u001b[0m\u001b[0;34m\u001b[0m\u001b[0m\n\u001b[1;32m      4\u001b[0m ).get_FX_latest()\n",
      "\u001b[0;32m~/Python_Projects/fx_api/venv/lib/python3.8/site-packages/backoff/_sync.py\u001b[0m in \u001b[0;36mretry\u001b[0;34m(*args, **kwargs)\u001b[0m\n\u001b[1;32m     92\u001b[0m \u001b[0;34m\u001b[0m\u001b[0m\n\u001b[1;32m     93\u001b[0m             \u001b[0;32mtry\u001b[0m\u001b[0;34m:\u001b[0m\u001b[0;34m\u001b[0m\u001b[0;34m\u001b[0m\u001b[0m\n\u001b[0;32m---> 94\u001b[0;31m                 \u001b[0mret\u001b[0m \u001b[0;34m=\u001b[0m \u001b[0mtarget\u001b[0m\u001b[0;34m(\u001b[0m\u001b[0;34m*\u001b[0m\u001b[0margs\u001b[0m\u001b[0;34m,\u001b[0m \u001b[0;34m**\u001b[0m\u001b[0mkwargs\u001b[0m\u001b[0;34m)\u001b[0m\u001b[0;34m\u001b[0m\u001b[0;34m\u001b[0m\u001b[0m\n\u001b[0m\u001b[1;32m     95\u001b[0m             \u001b[0;32mexcept\u001b[0m \u001b[0mexception\u001b[0m \u001b[0;32mas\u001b[0m \u001b[0me\u001b[0m\u001b[0;34m:\u001b[0m\u001b[0;34m\u001b[0m\u001b[0;34m\u001b[0m\u001b[0m\n\u001b[1;32m     96\u001b[0m                 \u001b[0mmax_tries_exceeded\u001b[0m \u001b[0;34m=\u001b[0m \u001b[0;34m(\u001b[0m\u001b[0mtries\u001b[0m \u001b[0;34m==\u001b[0m \u001b[0mmax_tries_\u001b[0m\u001b[0;34m)\u001b[0m\u001b[0;34m\u001b[0m\u001b[0;34m\u001b[0m\u001b[0m\n",
      "\u001b[0;32m~/Python_Projects/fx_api/venv/lib/python3.8/site-packages/ratelimit/decorators.py\u001b[0m in \u001b[0;36mwrapper\u001b[0;34m(*args, **kargs)\u001b[0m\n\u001b[1;32m     78\u001b[0m                     \u001b[0;32mreturn\u001b[0m\u001b[0;34m\u001b[0m\u001b[0;34m\u001b[0m\u001b[0m\n\u001b[1;32m     79\u001b[0m \u001b[0;34m\u001b[0m\u001b[0m\n\u001b[0;32m---> 80\u001b[0;31m             \u001b[0;32mreturn\u001b[0m \u001b[0mfunc\u001b[0m\u001b[0;34m(\u001b[0m\u001b[0;34m*\u001b[0m\u001b[0margs\u001b[0m\u001b[0;34m,\u001b[0m \u001b[0;34m**\u001b[0m\u001b[0mkargs\u001b[0m\u001b[0;34m)\u001b[0m\u001b[0;34m\u001b[0m\u001b[0;34m\u001b[0m\u001b[0m\n\u001b[0m\u001b[1;32m     81\u001b[0m         \u001b[0;32mreturn\u001b[0m \u001b[0mwrapper\u001b[0m\u001b[0;34m\u001b[0m\u001b[0;34m\u001b[0m\u001b[0m\n\u001b[1;32m     82\u001b[0m \u001b[0;34m\u001b[0m\u001b[0m\n",
      "\u001b[0;32m~/Python_Projects/fx_api/fx_api/api.py\u001b[0m in \u001b[0;36mget_FX_latest\u001b[0;34m(self)\u001b[0m\n\u001b[1;32m    116\u001b[0m \u001b[0;34m\u001b[0m\u001b[0m\n\u001b[1;32m    117\u001b[0m             \u001b[0;31m# Check for and raise HTTP exceptions\u001b[0m\u001b[0;34m\u001b[0m\u001b[0;34m\u001b[0m\u001b[0;34m\u001b[0m\u001b[0m\n\u001b[0;32m--> 118\u001b[0;31m             \u001b[0mresponse\u001b[0m\u001b[0;34m.\u001b[0m\u001b[0mraise_for_status\u001b[0m\u001b[0;34m(\u001b[0m\u001b[0;34m)\u001b[0m\u001b[0;34m\u001b[0m\u001b[0;34m\u001b[0m\u001b[0m\n\u001b[0m\u001b[1;32m    119\u001b[0m \u001b[0;34m\u001b[0m\u001b[0m\n\u001b[1;32m    120\u001b[0m             \u001b[0;31m# Normalize results of JSON response and add to a temporary (source_currency specific) pandas DataFrame\u001b[0m\u001b[0;34m\u001b[0m\u001b[0;34m\u001b[0m\u001b[0;34m\u001b[0m\u001b[0m\n",
      "\u001b[0;32m~/Python_Projects/fx_api/venv/lib/python3.8/site-packages/requests/models.py\u001b[0m in \u001b[0;36mraise_for_status\u001b[0;34m(self)\u001b[0m\n\u001b[1;32m    941\u001b[0m \u001b[0;34m\u001b[0m\u001b[0m\n\u001b[1;32m    942\u001b[0m         \u001b[0;32mif\u001b[0m \u001b[0mhttp_error_msg\u001b[0m\u001b[0;34m:\u001b[0m\u001b[0;34m\u001b[0m\u001b[0;34m\u001b[0m\u001b[0m\n\u001b[0;32m--> 943\u001b[0;31m             \u001b[0;32mraise\u001b[0m \u001b[0mHTTPError\u001b[0m\u001b[0;34m(\u001b[0m\u001b[0mhttp_error_msg\u001b[0m\u001b[0;34m,\u001b[0m \u001b[0mresponse\u001b[0m\u001b[0;34m=\u001b[0m\u001b[0mself\u001b[0m\u001b[0;34m)\u001b[0m\u001b[0;34m\u001b[0m\u001b[0;34m\u001b[0m\u001b[0m\n\u001b[0m\u001b[1;32m    944\u001b[0m \u001b[0;34m\u001b[0m\u001b[0m\n\u001b[1;32m    945\u001b[0m     \u001b[0;32mdef\u001b[0m \u001b[0mclose\u001b[0m\u001b[0;34m(\u001b[0m\u001b[0mself\u001b[0m\u001b[0;34m)\u001b[0m\u001b[0;34m:\u001b[0m\u001b[0;34m\u001b[0m\u001b[0;34m\u001b[0m\u001b[0m\n",
      "\u001b[0;31mHTTPError\u001b[0m: 400 Client Error: Bad Request for url: https://api.exchangeratesapi.io/latest?base=asdf"
     ]
    }
   ],
   "source": [
    "# HTTP exception raised when non-existant class supplied\n",
    "FX_df = FX(\n",
    "    source_currency=\"asdf\"\n",
    ").get_FX_latest()"
   ]
  }
 ],
 "metadata": {
  "kernelspec": {
   "display_name": "Python 3",
   "language": "python",
   "name": "python3"
  },
  "language_info": {
   "codemirror_mode": {
    "name": "ipython",
    "version": 3
   },
   "file_extension": ".py",
   "mimetype": "text/x-python",
   "name": "python",
   "nbconvert_exporter": "python",
   "pygments_lexer": "ipython3",
   "version": "3.8.7"
  }
 },
 "nbformat": 4,
 "nbformat_minor": 5
}
